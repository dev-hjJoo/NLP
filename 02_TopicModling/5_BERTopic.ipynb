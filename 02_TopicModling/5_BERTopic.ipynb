{
 "cells": [
  {
   "attachments": {},
   "cell_type": "markdown",
   "metadata": {},
   "source": [
    "# BERTopic을 이용한 Topic Modeling\n",
    "* 출처: [딥 러닝을 이용한 자연어 처리 입문 / 19-08 버토픽(BERTopic)](https://wikidocs.net/161310)\n",
    "* SBERT를 이용한 \n",
    "* 본 코드는 아래와 같은 순서로 구성되어 있습니다.\n",
    "    1. "
   ]
  },
  {
   "cell_type": "code",
   "execution_count": null,
   "metadata": {},
   "outputs": [],
   "source": []
  },
  {
   "cell_type": "markdown",
   "metadata": {},
   "source": []
  }
 ],
 "metadata": {
  "language_info": {
   "name": "python"
  },
  "orig_nbformat": 4
 },
 "nbformat": 4,
 "nbformat_minor": 2
}
