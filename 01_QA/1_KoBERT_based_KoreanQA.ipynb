{
 "cells": [
  {
   "attachments": {},
   "cell_type": "markdown",
   "metadata": {},
   "source": [
    "# KoBERT 기반의 한국어 QA Model\n",
    "* 사용한 Dataset: [KorQuAD](https://korquad.github.io/)\n",
    "* 사용한 Model, Tokenizer: `monologg/kobert` (KoBERT)\n",
    "* 참고한 Tutorial: Github [KoBERT-KorQuAD](https://github.com/monologg/KoBERT-KorQuAD)"
   ]
  },
  {
   "attachments": {},
   "cell_type": "markdown",
   "metadata": {},
   "source": [
    "* KoBERT 설치 필요: [관련 링크](https://github.com/monologg/KoBERT-Transformers)"
   ]
  },
  {
   "cell_type": "code",
   "execution_count": 1,
   "metadata": {},
   "outputs": [
    {
     "name": "stderr",
     "output_type": "stream",
     "text": [
      "The tokenizer class you load from this checkpoint is not the same type as the class this function is called from. It may result in unexpected tokenization. \n",
      "The tokenizer class you load from this checkpoint is 'BertTokenizer'. \n",
      "The class this function is called from is 'KoBertTokenizer'.\n"
     ]
    }
   ],
   "source": [
    "# 필요한 라이브러리 호출\n",
    "from transformers import BertModel\n",
    "from tokenization_kobert import KoBertTokenizer\n",
    "\n",
    "model = BertModel.from_pretrained('monologg/kobert')\n",
    "tokenizer = KoBertTokenizer.from_pretrained('monologg/kobert')"
   ]
  },
  {
   "cell_type": "code",
   "execution_count": 2,
   "metadata": {},
   "outputs": [
    {
     "name": "stderr",
     "output_type": "stream",
     "text": [
      "Python\n"
     ]
    }
   ],
   "source": [
    "!python3 run_squad.py --model_type kobert \\\n",
    "                       --model_name_or_path monologg/kobert \\\n",
    "                       --output_dir models \\\n",
    "                       --data_dir data \\\n",
    "                       --train_file KorQuAD_v1.0_train.json \\\n",
    "                       --predict_file KorQuAD_v1.0_dev.json \\\n",
    "                       --evaluate_during_training \\\n",
    "                       --per_gpu_train_batch_size 8 \\\n",
    "                       --per_gpu_eval_batch_size 8 \\\n",
    "                       --max_seq_length 512 \\\n",
    "                       --logging_steps 4000 \\\n",
    "                       --save_steps 4000 \\\n",
    "                       --do_train"
   ]
  },
  {
   "cell_type": "code",
   "execution_count": 5,
   "metadata": {},
   "outputs": [
    {
     "name": "stderr",
     "output_type": "stream",
     "text": [
      "Python\n"
     ]
    }
   ],
   "source": [
    "!python3 evaluate_v1_0.py Dataset/KorQuAD_v1.0_dev.json Result/predictions_.json"
   ]
  },
  {
   "cell_type": "code",
   "execution_count": null,
   "metadata": {},
   "outputs": [],
   "source": []
  }
 ],
 "metadata": {
  "kernelspec": {
   "display_name": "KoBERT",
   "language": "python",
   "name": "kobert"
  },
  "language_info": {
   "codemirror_mode": {
    "name": "ipython",
    "version": 3
   },
   "file_extension": ".py",
   "mimetype": "text/x-python",
   "name": "python",
   "nbconvert_exporter": "python",
   "pygments_lexer": "ipython3",
   "version": "3.8.16"
  },
  "orig_nbformat": 4
 },
 "nbformat": 4,
 "nbformat_minor": 2
}
